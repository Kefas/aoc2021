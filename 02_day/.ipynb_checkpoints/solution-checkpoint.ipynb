{
 "cells": [
  {
   "cell_type": "code",
   "execution_count": 3,
   "id": "9fac8b59",
   "metadata": {},
   "outputs": [],
   "source": [
    "with open('input.txt', 'r') as f:\n",
    "    commands = f.read().splitlines()"
   ]
  },
  {
   "cell_type": "markdown",
   "id": "ac305792",
   "metadata": {},
   "source": [
    "Part one:"
   ]
  },
  {
   "cell_type": "code",
   "execution_count": 5,
   "id": "eaa82b94",
   "metadata": {},
   "outputs": [
    {
     "name": "stdout",
     "output_type": "stream",
     "text": [
      "1660158\n"
     ]
    }
   ],
   "source": [
    "x, y = 0, 0\n",
    "for command in commands:\n",
    "    direction, value = command.split(' ')\n",
    "    if direction == 'forward':\n",
    "        x += int(value)\n",
    "    elif direction == 'down':\n",
    "        y += int(value)\n",
    "    else:\n",
    "        y -= int(value)\n",
    "        \n",
    "print(x*y)"
   ]
  },
  {
   "cell_type": "markdown",
   "id": "3e579a4f",
   "metadata": {},
   "source": [
    "Part two:"
   ]
  },
  {
   "cell_type": "code",
   "execution_count": 6,
   "id": "ff0a8089",
   "metadata": {},
   "outputs": [
    {
     "name": "stdout",
     "output_type": "stream",
     "text": [
      "1604592846\n"
     ]
    }
   ],
   "source": [
    "x, y, aim = 0, 0, 0\n",
    "for command in commands:\n",
    "    direction, value = command.split(' ')\n",
    "    \n",
    "    if direction == 'forward':\n",
    "        x += int(value)\n",
    "        y += aim * int(value)\n",
    "    elif direction == 'down':\n",
    "        aim += int(value)\n",
    "    else:\n",
    "        aim -= int(value)\n",
    "        \n",
    "print(x*y)"
   ]
  },
  {
   "cell_type": "code",
   "execution_count": null,
   "id": "634c7af6",
   "metadata": {},
   "outputs": [],
   "source": []
  }
 ],
 "metadata": {
  "kernelspec": {
   "display_name": "Python 3 (ipykernel)",
   "language": "python",
   "name": "python3"
  },
  "language_info": {
   "codemirror_mode": {
    "name": "ipython",
    "version": 3
   },
   "file_extension": ".py",
   "mimetype": "text/x-python",
   "name": "python",
   "nbconvert_exporter": "python",
   "pygments_lexer": "ipython3",
   "version": "3.8.1"
  }
 },
 "nbformat": 4,
 "nbformat_minor": 5
}
