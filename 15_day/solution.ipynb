{
 "cells": [
  {
   "cell_type": "code",
   "execution_count": 96,
   "id": "543632a4",
   "metadata": {},
   "outputs": [],
   "source": [
    "import math\n",
    "with open('input.txt', 'r') as f:\n",
    "    lines = f.read().splitlines()\n",
    "\n",
    "adjacency_matrix = []\n",
    "for line in lines:\n",
    "    row = []\n",
    "    for c in line:\n",
    "        row.append(int(c))\n",
    "    adjacency_matrix.append(row)"
   ]
  },
  {
   "cell_type": "code",
   "execution_count": 98,
   "id": "73d704b7",
   "metadata": {},
   "outputs": [],
   "source": [
    "\n",
    "big_matrix = np.copy(adjacency_matrix)\n",
    "\n",
    "last_matrix = np.copy(adjacency_matrix)\n",
    "for i in range(1, 5):\n",
    "    cp = np.copy(last_matrix)\n",
    "    cp = np.mod(cp, 9) + 1\n",
    "    big_matrix = np.hstack((big_matrix, cp))\n",
    "    last_matrix = np.copy(cp)\n",
    "\n",
    "row_matrix = np.copy(big_matrix)\n",
    "for i in range(1, 5):\n",
    "    cp = np.copy(row_matrix)\n",
    "    cp = np.mod(cp, 9) + 1\n",
    "    big_matrix = np.vstack((big_matrix, cp))\n",
    "    row_matrix = cp"
   ]
  },
  {
   "cell_type": "code",
   "execution_count": null,
   "id": "6772d9d4",
   "metadata": {},
   "outputs": [],
   "source": [
    "with open('input_big.txt', 'w') as fw:\n",
    "    for i, row in enumerate(big_matrix):\n",
    "        for j, value, in enumerate(row):\n",
    "            fw.write(str(value))\n",
    "        fw.write('\\n')"
   ]
  },
  {
   "cell_type": "code",
   "execution_count": 99,
   "id": "beeadfc7",
   "metadata": {},
   "outputs": [],
   "source": [
    "class Node:\n",
    "    def __init__(self, x, y, level, parent = None):\n",
    "        self.x = x\n",
    "        self.y = y\n",
    "        self.level = level\n",
    "        self.parent = parent\n",
    "        \n",
    "    def __repr__(self):\n",
    "        return f'({self.x},{self.y}) - {self.level}'\n",
    "\n",
    "    \n",
    "class PriorityQueue:\n",
    "    def __init__(self):\n",
    "        self.queue = []\n",
    "        \n",
    "    def dequeue(self):\n",
    "        return self.queue.pop()\n",
    "    \n",
    "    def append(self, node):\n",
    "        self.queue.append(node)\n",
    "        self.queue.sort(reverse=True, key=lambda x: x.level)\n",
    "    \n",
    "    def is_empty(self):\n",
    "        return self.queue == []\n",
    "    \n",
    "    def __str__(self):\n",
    "        return str(self.queue)\n",
    "    \n",
    "\n",
    "def is_valid(move, x, y, limit_x, limit_y):\n",
    "    if 0 <= move[0] + x <= limit_x and 0 <= move[1] + y <= limit_y:\n",
    "        return True\n",
    "    return False\n",
    "\n",
    "def find_path(matrix, x, y):\n",
    "    limit_x = len(matrix) - 1\n",
    "    limit_y = len(matrix[0]) - 1\n",
    "\n",
    "    node = Node(x, y, 0)\n",
    "    q = PriorityQueue()\n",
    "    q.append(node)\n",
    "    \n",
    "    visited = set()\n",
    "    visited.add((x, y))\n",
    "    movements = [(1, 0), (-1, 0), (0, 1), (0, -1)]\n",
    "    \n",
    "    while not q.is_empty():\n",
    "        current = q.dequeue()\n",
    "        \n",
    "        i = current.x\n",
    "        j = current.y\n",
    "        \n",
    "        if i == limit_x and j == limit_y:\n",
    "            return current\n",
    "        \n",
    "        for move in movements:\n",
    "            if is_valid(move, i, j, limit_x, limit_y):\n",
    "                next_x, next_y = i + move[0], j + move[1]\n",
    "                if (next_x, next_y) not in visited:\n",
    "                    visited.add((next_x, next_y))\n",
    "                    next_node = Node(next_x, next_y, current.level + matrix[next_x][next_y], current)\n",
    "                    q.append(next_node)\n",
    "            "
   ]
  },
  {
   "cell_type": "code",
   "execution_count": 100,
   "id": "bbb9e6d6",
   "metadata": {},
   "outputs": [
    {
     "name": "stdout",
     "output_type": "stream",
     "text": [
      "(499,499) - 2963\n"
     ]
    }
   ],
   "source": [
    "print(find_path(big_matrix, 0, 0))"
   ]
  },
  {
   "cell_type": "code",
   "execution_count": null,
   "id": "5b411bec",
   "metadata": {},
   "outputs": [],
   "source": []
  }
 ],
 "metadata": {
  "kernelspec": {
   "display_name": "Python 3 (ipykernel)",
   "language": "python",
   "name": "python3"
  },
  "language_info": {
   "codemirror_mode": {
    "name": "ipython",
    "version": 3
   },
   "file_extension": ".py",
   "mimetype": "text/x-python",
   "name": "python",
   "nbconvert_exporter": "python",
   "pygments_lexer": "ipython3",
   "version": "3.8.1"
  }
 },
 "nbformat": 4,
 "nbformat_minor": 5
}
