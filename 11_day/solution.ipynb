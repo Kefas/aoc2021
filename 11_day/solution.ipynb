{
 "cells": [
  {
   "cell_type": "code",
   "execution_count": 55,
   "id": "5e14cbfd",
   "metadata": {},
   "outputs": [],
   "source": [
    "import numpy as np\n",
    "\n",
    "with open('input.txt', 'r') as f:\n",
    "    lines = f.read().splitlines()\n",
    "\n",
    "grid = []\n",
    "for line in lines:\n",
    "    row = np.array([int(x) for x in line])\n",
    "    grid.append(row)\n",
    "\n",
    "grid = np.array(grid)"
   ]
  },
  {
   "cell_type": "code",
   "execution_count": 36,
   "id": "84d6452f",
   "metadata": {},
   "outputs": [],
   "source": [
    "def flash(i, j, grid):\n",
    "    if i > 0:\n",
    "        if grid[i-1][j] != 0:\n",
    "            grid[i-1][j] += 1\n",
    "        if j > 0 and grid[i-1][j-1] != 0:\n",
    "            grid[i-1][j-1] += 1\n",
    "        if j + 1 < len(grid[0]) and grid[i-1][j+1] != 0:\n",
    "            grid[i-1][j+1] += 1\n",
    "    if i + 1 < len(grid):\n",
    "        if grid[i+1][j] != 0:\n",
    "            grid[i+1][j] += 1\n",
    "        if j > 0 and grid[i+1][j-1] != 0:\n",
    "            grid[i+1][j-1] += 1\n",
    "        if j + 1 < len(grid[0]) and grid[i+1][j+1] != 0:\n",
    "            grid[i+1][j+1] += 1      \n",
    "            \n",
    "    if j > 0 and grid[i][j-1] != 0:\n",
    "            grid[i][j-1] += 1\n",
    "    if j + 1 < len(grid[0]) and grid[i][j+1] != 0:\n",
    "        grid[i][j+1] += 1\n",
    "    \n",
    "    grid[i][j] = 0\n",
    "\n",
    "\n",
    "result = 0\n",
    "for step in range(100):\n",
    "    grid += 1\n",
    "    \n",
    "    while True:\n",
    "        flashed = 0\n",
    "        for i, row in enumerate(grid):\n",
    "            for j, value in enumerate(row):\n",
    "                if value > 9:\n",
    "                    flash(i, j, grid)\n",
    "                    flashed += 1       \n",
    "        if flashed == 0:\n",
    "            break\n",
    "        result += flashed\n",
    "                "
   ]
  },
  {
   "cell_type": "code",
   "execution_count": 38,
   "id": "320efcf6",
   "metadata": {},
   "outputs": [
    {
     "data": {
      "text/plain": [
       "1717"
      ]
     },
     "execution_count": 38,
     "metadata": {},
     "output_type": "execute_result"
    }
   ],
   "source": [
    "result"
   ]
  },
  {
   "cell_type": "code",
   "execution_count": 56,
   "id": "cf8e8d48",
   "metadata": {},
   "outputs": [
    {
     "name": "stdout",
     "output_type": "stream",
     "text": [
      "476\n"
     ]
    }
   ],
   "source": [
    "steps = 0\n",
    "while True:\n",
    "    steps += 1\n",
    "    grid += 1\n",
    "    while True:\n",
    "        flashed = 0\n",
    "        for i, row in enumerate(grid):\n",
    "            for j, value in enumerate(row):\n",
    "                if value > 9:\n",
    "                    flash(i, j, grid)\n",
    "                    flashed +=1\n",
    "        if flashed == 0:\n",
    "            break\n",
    "\n",
    "    if np.sum(grid) == 0:\n",
    "        print(steps)\n",
    "        break"
   ]
  },
  {
   "cell_type": "code",
   "execution_count": null,
   "id": "f6e757bd",
   "metadata": {},
   "outputs": [],
   "source": []
  }
 ],
 "metadata": {
  "kernelspec": {
   "display_name": "Python 3 (ipykernel)",
   "language": "python",
   "name": "python3"
  },
  "language_info": {
   "codemirror_mode": {
    "name": "ipython",
    "version": 3
   },
   "file_extension": ".py",
   "mimetype": "text/x-python",
   "name": "python",
   "nbconvert_exporter": "python",
   "pygments_lexer": "ipython3",
   "version": "3.8.1"
  }
 },
 "nbformat": 4,
 "nbformat_minor": 5
}
