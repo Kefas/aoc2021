{
 "cells": [
  {
   "cell_type": "code",
   "execution_count": 110,
   "id": "0da65ce6",
   "metadata": {},
   "outputs": [],
   "source": [
    "with open('input.txt', 'r') as f:\n",
    "    line = f.read().splitlines()[0]\n",
    "x_min = int(line.split(' ')[2].split('..')[0].split('=')[1])\n",
    "x_max = int(line.split(' ')[2].split('..')[1][:-1])\n",
    "y_min = int(line.split(' ')[3].split('..')[0].split('=')[1])\n",
    "y_max = int(line.split(' ')[3].split('..')[1])"
   ]
  },
  {
   "cell_type": "code",
   "execution_count": 111,
   "id": "7ca90f60",
   "metadata": {},
   "outputs": [],
   "source": [
    "import math\n",
    "\n",
    "y_high = sum([i + 1 for i in range(-y_min - 1)])"
   ]
  },
  {
   "cell_type": "code",
   "execution_count": 112,
   "id": "e41725ef",
   "metadata": {},
   "outputs": [
    {
     "name": "stdout",
     "output_type": "stream",
     "text": [
      "13203\n"
     ]
    }
   ],
   "source": [
    "print(y_high)"
   ]
  },
  {
   "cell_type": "markdown",
   "id": "dd09e803",
   "metadata": {},
   "source": [
    "part2"
   ]
  },
  {
   "cell_type": "code",
   "execution_count": 113,
   "id": "19fa956b",
   "metadata": {},
   "outputs": [],
   "source": [
    "x_v_max = x_max\n",
    "for i in range(x_max):\n",
    "    if sum([j + 1 for j in range(i)]) > x_min:\n",
    "        x_v_min = i\n",
    "        break\n",
    "\n",
    "y_v_max = -y_min - 1\n",
    "y_v_min = y_min"
   ]
  },
  {
   "cell_type": "code",
   "execution_count": 114,
   "id": "cc17178e",
   "metadata": {},
   "outputs": [],
   "source": [
    "def target(x, y, x_min, x_max, y_min, y_max):\n",
    "    x_pos = 0\n",
    "    y_pos = 0\n",
    "    while x_pos <= x_max and y_pos >= y_min:\n",
    "        x_pos += x\n",
    "        y_pos += y\n",
    "        \n",
    "        if x > 0:\n",
    "            x -= 1\n",
    "        y -= 1\n",
    "        \n",
    "        if x_min <= x_pos <= x_max and y_min <= y_pos <= y_max:\n",
    "            return True\n",
    "    return False\n",
    "        \n",
    "\n",
    "\n",
    "velocities = []\n",
    "for x in range(x_v_min, x_v_max + 1):\n",
    "    for y in range(y_v_min, y_v_max + 1):\n",
    "        if target(x, y, x_min, x_max, y_min, y_max):\n",
    "            velocities.append((x, y))\n",
    "            "
   ]
  },
  {
   "cell_type": "code",
   "execution_count": 115,
   "id": "88a10f39",
   "metadata": {},
   "outputs": [
    {
     "data": {
      "text/plain": [
       "5644"
      ]
     },
     "execution_count": 115,
     "metadata": {},
     "output_type": "execute_result"
    }
   ],
   "source": [
    "len(velocities)"
   ]
  },
  {
   "cell_type": "code",
   "execution_count": 116,
   "id": "3a2a396b",
   "metadata": {},
   "outputs": [
    {
     "data": {
      "text/plain": [
       "5644"
      ]
     },
     "execution_count": 116,
     "metadata": {},
     "output_type": "execute_result"
    }
   ],
   "source": [
    "len(set(velocities))"
   ]
  },
  {
   "cell_type": "code",
   "execution_count": 96,
   "id": "58b29435",
   "metadata": {},
   "outputs": [
    {
     "data": {
      "text/plain": [
       "[(7, 2),\n",
       " (7, 3),\n",
       " (7, 4),\n",
       " (7, 5),\n",
       " (7, 6),\n",
       " (7, 7),\n",
       " (7, 8),\n",
       " (7, 9),\n",
       " (8, 1),\n",
       " (8, 2),\n",
       " (8, 3),\n",
       " (8, 4),\n",
       " (8, 5),\n",
       " (8, 6),\n",
       " (8, 7),\n",
       " (8, 8),\n",
       " (8, 9),\n",
       " (9, -1),\n",
       " (9, 0),\n",
       " (9, 1),\n",
       " (9, 2),\n",
       " (10, -1),\n",
       " (10, 0),\n",
       " (10, 1),\n",
       " (11, -1),\n",
       " (11, 0),\n",
       " (12, -3),\n",
       " (12, -2),\n",
       " (12, -1),\n",
       " (12, 0),\n",
       " (13, -3),\n",
       " (13, -2),\n",
       " (13, -1),\n",
       " (14, -3),\n",
       " (14, -2),\n",
       " (14, -1),\n",
       " (15, -3),\n",
       " (15, -2),\n",
       " (15, -1),\n",
       " (16, -3),\n",
       " (16, -2),\n",
       " (16, -1),\n",
       " (21, -9),\n",
       " (21, -8),\n",
       " (21, -7),\n",
       " (21, -6),\n",
       " (21, -5),\n",
       " (21, -4),\n",
       " (22, -9),\n",
       " (22, -8),\n",
       " (22, -7),\n",
       " (22, -6),\n",
       " (22, -5),\n",
       " (22, -4),\n",
       " (23, -9),\n",
       " (23, -8),\n",
       " (23, -7),\n",
       " (23, -6),\n",
       " (23, -5),\n",
       " (23, -4),\n",
       " (24, -9),\n",
       " (24, -8),\n",
       " (24, -7),\n",
       " (24, -6),\n",
       " (24, -5),\n",
       " (24, -4),\n",
       " (25, -9),\n",
       " (25, -8),\n",
       " (25, -7),\n",
       " (25, -6),\n",
       " (25, -5),\n",
       " (25, -4),\n",
       " (26, -9),\n",
       " (26, -8),\n",
       " (26, -7),\n",
       " (26, -6),\n",
       " (26, -5),\n",
       " (26, -4),\n",
       " (27, -9),\n",
       " (27, -8),\n",
       " (27, -7),\n",
       " (27, -6),\n",
       " (27, -5),\n",
       " (27, -4),\n",
       " (28, -9),\n",
       " (28, -8),\n",
       " (28, -7),\n",
       " (28, -6),\n",
       " (28, -5),\n",
       " (28, -4),\n",
       " (29, -9),\n",
       " (29, -8),\n",
       " (29, -7),\n",
       " (29, -6),\n",
       " (29, -5),\n",
       " (29, -4),\n",
       " (30, -9),\n",
       " (30, -8),\n",
       " (30, -7),\n",
       " (30, -6),\n",
       " (30, -5),\n",
       " (30, -4)]"
      ]
     },
     "execution_count": 96,
     "metadata": {},
     "output_type": "execute_result"
    }
   ],
   "source": [
    "velocities"
   ]
  },
  {
   "cell_type": "code",
   "execution_count": null,
   "id": "ebe0c80a",
   "metadata": {},
   "outputs": [],
   "source": []
  }
 ],
 "metadata": {
  "kernelspec": {
   "display_name": "Python 3 (ipykernel)",
   "language": "python",
   "name": "python3"
  },
  "language_info": {
   "codemirror_mode": {
    "name": "ipython",
    "version": 3
   },
   "file_extension": ".py",
   "mimetype": "text/x-python",
   "name": "python",
   "nbconvert_exporter": "python",
   "pygments_lexer": "ipython3",
   "version": "3.8.1"
  }
 },
 "nbformat": 4,
 "nbformat_minor": 5
}
