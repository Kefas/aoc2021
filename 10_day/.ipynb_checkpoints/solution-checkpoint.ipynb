{
 "cells": [
  {
   "cell_type": "code",
   "execution_count": 49,
   "id": "ca49bdd2",
   "metadata": {},
   "outputs": [],
   "source": [
    "with open('input.txt', 'r') as f:\n",
    "    lines = f.read().splitlines()"
   ]
  },
  {
   "cell_type": "code",
   "execution_count": 50,
   "id": "1a55dd8d",
   "metadata": {},
   "outputs": [],
   "source": [
    "openings = ['(', '[', '{', '<']\n",
    "illegals = []\n",
    "rests = []\n",
    "stack = []\n",
    "\n",
    "for line in lines:\n",
    "    stack = []\n",
    "    next_line = False\n",
    "    for c in line:\n",
    "        if next_line:\n",
    "            continue\n",
    "        if c in openings:\n",
    "            stack.append(c)\n",
    "        else:\n",
    "            if stack[-1] == '(' and c == ')':\n",
    "                stack.pop()\n",
    "            elif stack[-1] == '[' and c == ']':\n",
    "                stack.pop()\n",
    "            elif stack[-1] == '{' and c == '}':\n",
    "                stack.pop()\n",
    "            elif stack[-1] == '<' and c == '>':\n",
    "                stack.pop()\n",
    "            else:\n",
    "                illegals.append(c)\n",
    "                next_line = True\n",
    "    if stack and not next_line:\n",
    "        rests.append(stack)\n"
   ]
  },
  {
   "cell_type": "code",
   "execution_count": 51,
   "id": "ad5e1cd1",
   "metadata": {},
   "outputs": [
    {
     "name": "stdout",
     "output_type": "stream",
     "text": [
      "364389\n"
     ]
    }
   ],
   "source": [
    "import collections, numpy\n",
    "\n",
    "a = numpy.array(illegals)\n",
    "illegals_dict = dict(collections.Counter(a))\n",
    "\n",
    "result = illegals_dict.get(')', 0) * 3 + illegals_dict.get(']', 0) * 57 + illegals_dict.get('}', 0) * 1197 + illegals_dict.get('>', 0) * 25137\n",
    "print(result)"
   ]
  },
  {
   "cell_type": "code",
   "execution_count": 54,
   "id": "e188e00a",
   "metadata": {},
   "outputs": [
    {
     "name": "stdout",
     "output_type": "stream",
     "text": [
      "2870201088\n"
     ]
    }
   ],
   "source": [
    "scores = []\n",
    "for rest in rests:\n",
    "    result = 0\n",
    "    cost = {'(' : 1, '[' : 2, '{': 3, '<': 4}\n",
    "    for c in reversed(rest):\n",
    "        result = result * 5 + cost.get(c)\n",
    "    scores.append(result)\n",
    "print(sorted(scores)[len(scores)//2])"
   ]
  },
  {
   "cell_type": "code",
   "execution_count": null,
   "id": "39518e8c",
   "metadata": {},
   "outputs": [],
   "source": []
  }
 ],
 "metadata": {
  "kernelspec": {
   "display_name": "Python 3 (ipykernel)",
   "language": "python",
   "name": "python3"
  },
  "language_info": {
   "codemirror_mode": {
    "name": "ipython",
    "version": 3
   },
   "file_extension": ".py",
   "mimetype": "text/x-python",
   "name": "python",
   "nbconvert_exporter": "python",
   "pygments_lexer": "ipython3",
   "version": "3.8.1"
  }
 },
 "nbformat": 4,
 "nbformat_minor": 5
}
