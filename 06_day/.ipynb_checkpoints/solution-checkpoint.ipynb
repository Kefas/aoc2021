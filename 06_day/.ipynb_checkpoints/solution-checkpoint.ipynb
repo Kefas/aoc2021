{
 "cells": [
  {
   "cell_type": "code",
   "execution_count": 105,
   "id": "3d2b7070",
   "metadata": {},
   "outputs": [],
   "source": [
    "with open('input.txt', 'r') as f:\n",
    "    text = f.read().replace('\\n', '')"
   ]
  },
  {
   "cell_type": "markdown",
   "id": "222e6852",
   "metadata": {},
   "source": [
    "part 1"
   ]
  },
  {
   "cell_type": "code",
   "execution_count": 52,
   "id": "810c8f24",
   "metadata": {},
   "outputs": [
    {
     "name": "stdout",
     "output_type": "stream",
     "text": [
      "365862\n"
     ]
    }
   ],
   "source": [
    "import numpy as np\n",
    "\n",
    "fish_school = np.array([int(x) for x in text.split(',')])\n",
    "\n",
    "days = 80\n",
    "\n",
    "for day in range(days):\n",
    "    fish_school_size = fish_school.size\n",
    "    new_fish = 0\n",
    "    for i in range(fish_school_size):\n",
    "        fish_school[i] -= 1\n",
    "        if fish_school[i] == -1:\n",
    "            fish_school[i] = 6\n",
    "            new_fish += 1\n",
    "    fish_school = np.append(fish_school, np.full(new_fish, 8))\n",
    "\n",
    "print(len(fish_school))"
   ]
  },
  {
   "cell_type": "markdown",
   "id": "040c22e5",
   "metadata": {},
   "source": [
    "part 2"
   ]
  },
  {
   "cell_type": "code",
   "execution_count": 140,
   "id": "cd2e581a",
   "metadata": {
    "scrolled": true
   },
   "outputs": [
    {
     "name": "stdout",
     "output_type": "stream",
     "text": [
      "1653250886439\n"
     ]
    }
   ],
   "source": [
    "import numpy as np\n",
    "\n",
    "\n",
    "fishes = np.array([int(x) for x in text.split(',')])\n",
    "fish_list = np.zeros(9)\n",
    "for fish in fishes:\n",
    "    fish_list[fish] += 1\n",
    "\n",
    "days = 256\n",
    "for _ in range(days):\n",
    "    fish_list = np.roll(fish_list, -1)\n",
    "    fish_list[6] += fish_list[8]\n",
    "\n",
    "print(int(np.sum(fish_list)))"
   ]
  },
  {
   "cell_type": "code",
   "execution_count": null,
   "id": "9a4404fe",
   "metadata": {},
   "outputs": [],
   "source": []
  }
 ],
 "metadata": {
  "kernelspec": {
   "display_name": "Python 3 (ipykernel)",
   "language": "python",
   "name": "python3"
  },
  "language_info": {
   "codemirror_mode": {
    "name": "ipython",
    "version": 3
   },
   "file_extension": ".py",
   "mimetype": "text/x-python",
   "name": "python",
   "nbconvert_exporter": "python",
   "pygments_lexer": "ipython3",
   "version": "3.8.1"
  }
 },
 "nbformat": 4,
 "nbformat_minor": 5
}
