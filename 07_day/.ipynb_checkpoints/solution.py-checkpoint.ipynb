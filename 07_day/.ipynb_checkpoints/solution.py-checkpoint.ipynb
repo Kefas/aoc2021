{
 "cells": [
  {
   "cell_type": "code",
   "execution_count": 2,
   "id": "a0276580",
   "metadata": {},
   "outputs": [],
   "source": [
    "import numpy as np\n",
    "\n",
    "with open('input.txt', 'r') as f:\n",
    "    text = f.read()\n",
    "positions = np.array([int(x) for x in text.split(',')])"
   ]
  },
  {
   "cell_type": "markdown",
   "id": "e8ef7067",
   "metadata": {},
   "source": [
    "part 1"
   ]
  },
  {
   "cell_type": "code",
   "execution_count": 3,
   "id": "bb960faf",
   "metadata": {},
   "outputs": [
    {
     "name": "stdout",
     "output_type": "stream",
     "text": [
      "325528\n"
     ]
    }
   ],
   "source": [
    "new_position = round(np.median(positions))\n",
    "fuel = 0\n",
    "for position in positions:\n",
    "    fuel += abs(new_position - position)\n",
    "print(fuel)"
   ]
  },
  {
   "cell_type": "markdown",
   "id": "e124b3e9",
   "metadata": {},
   "source": [
    "part 2"
   ]
  },
  {
   "cell_type": "code",
   "execution_count": 21,
   "id": "7c1aa1e2",
   "metadata": {},
   "outputs": [
    {
     "name": "stdout",
     "output_type": "stream",
     "text": [
      "85015836\n"
     ]
    }
   ],
   "source": [
    "import math\n",
    "\n",
    "new_position = math.floor((np.mean(positions)))\n",
    "fuel = 0\n",
    "for position in positions:\n",
    "    fuel += sum([i + 1 for i in range(abs(position - new_position))])\n",
    "print(fuel)"
   ]
  },
  {
   "cell_type": "code",
   "execution_count": null,
   "id": "3df69813",
   "metadata": {},
   "outputs": [],
   "source": []
  }
 ],
 "metadata": {
  "kernelspec": {
   "display_name": "Python 3 (ipykernel)",
   "language": "python",
   "name": "python3"
  },
  "language_info": {
   "codemirror_mode": {
    "name": "ipython",
    "version": 3
   },
   "file_extension": ".py",
   "mimetype": "text/x-python",
   "name": "python",
   "nbconvert_exporter": "python",
   "pygments_lexer": "ipython3",
   "version": "3.8.1"
  }
 },
 "nbformat": 4,
 "nbformat_minor": 5
}
