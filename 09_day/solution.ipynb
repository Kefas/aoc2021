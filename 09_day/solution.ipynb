{
 "cells": [
  {
   "cell_type": "code",
   "execution_count": 53,
   "id": "482b8f71",
   "metadata": {},
   "outputs": [],
   "source": [
    "with open('input.txt', 'r') as f:\n",
    "    lines = f.read().splitlines()\n",
    "\n",
    "heat_map = []\n",
    "for line in lines:\n",
    "    row = [int(c) for c in line]\n",
    "    heat_map.append(row)"
   ]
  },
  {
   "cell_type": "code",
   "execution_count": 54,
   "id": "d78a91ee",
   "metadata": {},
   "outputs": [
    {
     "name": "stdout",
     "output_type": "stream",
     "text": [
      "591\n"
     ]
    }
   ],
   "source": [
    "acc = 0\n",
    "low_points = []\n",
    "for i, row in enumerate(heat_map):\n",
    "    for j, value in enumerate(row):\n",
    "\n",
    "        if i > 0 and heat_map[i-1][j] <= value:\n",
    "            continue\n",
    "        if j > 0 and heat_map[i][j-1] <= value:\n",
    "            continue\n",
    "        if i < len(heat_map) - 1 and heat_map[i+1][j] <= value:\n",
    "            continue\n",
    "        if j < len(row) - 1 and heat_map[i][j+1] <= value:\n",
    "            continue\n",
    "        \n",
    "        low_points.append((i, j))\n",
    "        acc += value + 1\n",
    "        \n",
    "print(acc)     "
   ]
  },
  {
   "cell_type": "code",
   "execution_count": 55,
   "id": "077baa71",
   "metadata": {},
   "outputs": [
    {
     "name": "stdout",
     "output_type": "stream",
     "text": [
      "101\n",
      "104\n",
      "106\n",
      "1113424\n"
     ]
    }
   ],
   "source": [
    "import numpy as np\n",
    "visited = []\n",
    "for row in heat_map:\n",
    "    visited.append(np.zeros(len(row)))\n",
    "\n",
    "\n",
    "def find_basin_size(i, j, heat_map, visited, acc):\n",
    "    if i > 0 and not visited[i-1][j] and heat_map[i-1][j] != 9:\n",
    "        visited[i-1][j] = True\n",
    "        acc += 1 + find_basin_size(i-1, j, heat_map, visited, 0)\n",
    "    if i + 1 < len(heat_map) and not visited[i+1][j] and heat_map[i+1][j] != 9:\n",
    "        visited[i+1][j] = True\n",
    "        acc += 1 + find_basin_size(i+1, j, heat_map, visited, 0)\n",
    "    if j > 0 and not visited[i][j-1] and heat_map[i][j-1] != 9:\n",
    "        visited[i][j-1] = True\n",
    "        acc += 1 + find_basin_size(i, j-1, heat_map, visited, 0)\n",
    "    if j + 1 < len(heat_map[i]) and not visited[i][j+1] and heat_map[i][j+1] != 9:\n",
    "        visited[i][j+1] = True\n",
    "        acc += 1 + find_basin_size(i, j+1, heat_map, visited, 0)\n",
    "    return acc\n",
    "    \n",
    "basin_sizes = []\n",
    "\n",
    "for i, j in low_points:\n",
    "    visited[i][j] = True\n",
    "    basin_sizes.append(1 + find_basin_size(i, j, heat_map, visited, 0))\n",
    " \n",
    "result = 1\n",
    "for value in sorted(basin_sizes)[-3:]:\n",
    "    print(value)\n",
    "    result *= value\n",
    "print(result)"
   ]
  },
  {
   "cell_type": "code",
   "execution_count": 42,
   "id": "3b8364c9",
   "metadata": {},
   "outputs": [
    {
     "data": {
      "text/plain": [
       "308"
      ]
     },
     "execution_count": 42,
     "metadata": {},
     "output_type": "execute_result"
    }
   ],
   "source": []
  },
  {
   "cell_type": "code",
   "execution_count": null,
   "id": "4a335434",
   "metadata": {},
   "outputs": [],
   "source": []
  }
 ],
 "metadata": {
  "kernelspec": {
   "display_name": "Python 3 (ipykernel)",
   "language": "python",
   "name": "python3"
  },
  "language_info": {
   "codemirror_mode": {
    "name": "ipython",
    "version": 3
   },
   "file_extension": ".py",
   "mimetype": "text/x-python",
   "name": "python",
   "nbconvert_exporter": "python",
   "pygments_lexer": "ipython3",
   "version": "3.8.1"
  }
 },
 "nbformat": 4,
 "nbformat_minor": 5
}
