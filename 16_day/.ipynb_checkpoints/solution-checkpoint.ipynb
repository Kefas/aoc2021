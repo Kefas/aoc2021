{
 "cells": [
  {
   "cell_type": "code",
   "execution_count": 257,
   "id": "e88f0d9a",
   "metadata": {},
   "outputs": [],
   "source": [
    "with open('input.txt', 'r') as f:\n",
    "    hex_input = f.read().splitlines()"
   ]
  },
  {
   "cell_type": "code",
   "execution_count": 258,
   "id": "1676a804",
   "metadata": {},
   "outputs": [],
   "source": [
    "binary = ''\n",
    "# hex_input = ['A0016C880162017C3686B18A3D4780']\n",
    "for number in hex_input[0]:\n",
    "    binary += (bin(int(number, 16))[2:].zfill(4))"
   ]
  },
  {
   "cell_type": "code",
   "execution_count": 267,
   "id": "5c533e03",
   "metadata": {},
   "outputs": [],
   "source": [
    "import numpy as np\n",
    "\n",
    "def read_header(binary, index):\n",
    "    package_version = int(binary[index:index + 3], 2)\n",
    "    index += 3\n",
    "    type_ID = int(binary[index:index + 3], 2)\n",
    "    index += 3\n",
    "    return (package_version, type_ID, index)\n",
    "\n",
    "def read_literal(binary, index):\n",
    "    start_index = index\n",
    "    chunks = []\n",
    "    while True:\n",
    "        chunk = binary[index:index+5]\n",
    "        index += 5\n",
    "        first_bit = chunk[0]\n",
    "        chunks.append(chunk[1:])\n",
    "        if first_bit == '0':\n",
    "            break\n",
    "    \n",
    "#     if binary[index:index+3] == '000':\n",
    "#         index += 3 # ignore zeros (index - start_index) % 4\n",
    "    \n",
    "    result = ''\n",
    "    for chunk in chunks:\n",
    "        result += chunk\n",
    "        \n",
    "    return (int(result, 2), index)\n",
    "\n",
    "def read_operator(binary, index):\n",
    "    length_type_ID = int(binary[index], 2)\n",
    "    index += 1\n",
    "    if length_type_ID == 0:\n",
    "        total_length = int(binary[index:index+15], 2)\n",
    "        index += 15\n",
    "        return length_type_ID, total_length, index\n",
    "    else:\n",
    "        number_of_subpackets = int(binary[index:index+11], 2)\n",
    "        index += 11\n",
    "        return length_type_ID, number_of_subpackets, index\n",
    "\n",
    "\n",
    "def read_package(binary, index, package_versions=[]):\n",
    "    package_version, type_ID, index = read_header(binary, index)\n",
    "    package_versions.append(package_version)\n",
    "    values = []\n",
    "    if type_ID == 4: # literal value\n",
    "        literal, index = read_literal(binary, index)\n",
    "        result = literal\n",
    "    else:\n",
    "        length_type_id, number, index = read_operator(binary, index, )\n",
    "        if length_type_id == 0:\n",
    "            end_of_package = index + number\n",
    "            while index < end_of_package:\n",
    "                index, value = read_package(binary, index, package_versions)\n",
    "                values.append(value)\n",
    "        else:\n",
    "            for _ in range(number):\n",
    "                index, value = read_package(binary, index, package_versions)\n",
    "                values.append(value)\n",
    "        \n",
    "        if type_ID == 0: # sum\n",
    "            result = sum(values)\n",
    "        elif type_ID == 1: # product\n",
    "            result = np.prod(values)\n",
    "        elif type_ID == 2: # minimum\n",
    "            result = np.min(values)\n",
    "        elif type_ID == 3: # maximum\n",
    "            result = np.max(values)\n",
    "        elif type_ID == 5: # gt\n",
    "            if values[0] > values[1]:\n",
    "                result = 1\n",
    "            else:\n",
    "                result = 0\n",
    "        elif type_ID == 6: # lt\n",
    "            if values[0] < values[1]:\n",
    "                result = 1\n",
    "            else:\n",
    "                result = 0\n",
    "        elif type_ID == 7: # equal\n",
    "            if values[0] == values[1]:\n",
    "                result = 1\n",
    "            else:\n",
    "                result = 0\n",
    "            \n",
    "            \n",
    "    \n",
    "    return index, result"
   ]
  },
  {
   "cell_type": "code",
   "execution_count": 271,
   "id": "8e8c7575",
   "metadata": {},
   "outputs": [
    {
     "name": "stdout",
     "output_type": "stream",
     "text": [
      "977\n",
      "101501020883\n"
     ]
    }
   ],
   "source": [
    "index = 0\n",
    "package_versions = []\n",
    "index, values = read_package(binary, index, package_versions)\n",
    "print(sum(package_versions))\n",
    "print(values)"
   ]
  },
  {
   "cell_type": "code",
   "execution_count": null,
   "id": "db1c1316",
   "metadata": {},
   "outputs": [],
   "source": []
  }
 ],
 "metadata": {
  "kernelspec": {
   "display_name": "Python 3 (ipykernel)",
   "language": "python",
   "name": "python3"
  },
  "language_info": {
   "codemirror_mode": {
    "name": "ipython",
    "version": 3
   },
   "file_extension": ".py",
   "mimetype": "text/x-python",
   "name": "python",
   "nbconvert_exporter": "python",
   "pygments_lexer": "ipython3",
   "version": "3.8.1"
  }
 },
 "nbformat": 4,
 "nbformat_minor": 5
}
