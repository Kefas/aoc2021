{
 "cells": [
  {
   "cell_type": "code",
   "execution_count": null,
   "id": "345273bb",
   "metadata": {},
   "outputs": [],
   "source": [
    "with open('input.txt', 'r') as f:\n",
    "    lines = f.read().splitlines()"
   ]
  },
  {
   "cell_type": "markdown",
   "id": "e095fd07",
   "metadata": {},
   "source": [
    "Task 1"
   ]
  },
  {
   "cell_type": "code",
   "execution_count": 22,
   "id": "ade0b1c5",
   "metadata": {},
   "outputs": [
    {
     "name": "stdout",
     "output_type": "stream",
     "text": [
      "[504, 496, 497, 525, 517, 528, 519, 497, 498, 498, 503, 502]\n",
      "2531 x 1564 = 3958484\n"
     ]
    }
   ],
   "source": [
    "from operator import add\n",
    "\n",
    "output = [0] * len(lines[0])\n",
    "for line in lines:\n",
    "    binary_input = [int(c) for c in line]\n",
    "    output = list(map(add, output, binary_input))\n",
    "\n",
    "print(output)\n",
    "gamma = [str(c) for c in list(map(lambda x: 1 if x > len(lines)/2 else 0 , output))]\n",
    "epsilon = [str(c) for c in list(map(lambda x: 1 if x < len(lines)/2 else 0 , output))]\n",
    "\n",
    "gamma = int(''.join(gamma),2)\n",
    "epsilon = int(''.join(epsilon),2)\n",
    "print(f'{gamma} x {epsilon} = {gamma * epsilon}')"
   ]
  },
  {
   "cell_type": "markdown",
   "id": "d4197f8c",
   "metadata": {},
   "source": [
    "Task 2"
   ]
  },
  {
   "cell_type": "code",
   "execution_count": 92,
   "id": "ef7b07df",
   "metadata": {},
   "outputs": [],
   "source": [
    "from operator import add\n",
    "\n",
    "binary_inputs = []\n",
    "output = [0] * len(lines[0])\n",
    "for line in lines:\n",
    "    binary_inputs.append([int(c) for c in line])\n",
    "\n",
    "def most_common_value(binaries, i):\n",
    "    bit_value = 0\n",
    "    for binary_input in binaries:\n",
    "        bit_value += binary_input[i]\n",
    "    \n",
    "    return 1 if bit_value >= len(binaries) / 2.0 else 0\n",
    "   \n",
    "def least_common_value(binaries, i):\n",
    "    bit_value = 0\n",
    "    for binary_input in binaries:\n",
    "        bit_value += binary_input[i]\n",
    "    \n",
    "    return 0 if bit_value >= len(binaries) / 2.0 else 1"
   ]
  },
  {
   "cell_type": "code",
   "execution_count": 93,
   "id": "c473db2d",
   "metadata": {},
   "outputs": [],
   "source": [
    "oxygen_generator_rating = binary_inputs\n",
    "\n",
    "for i, _ in enumerate(oxygen_generator_rating[0]):\n",
    "    if len(oxygen_generator_rating) > 1:\n",
    "        common_value = most_common_value(oxygen_generator_rating, i)\n",
    "        oxygen_generator_rating = list(filter(lambda x: x[i] == common_value, oxygen_generator_rating))\n"
   ]
  },
  {
   "cell_type": "code",
   "execution_count": 98,
   "id": "f7fe1524",
   "metadata": {},
   "outputs": [],
   "source": [
    "co2_scrubber_rating = binary_inputs\n",
    "\n",
    "for i, _ in enumerate(co2_scrubber_rating[0]):\n",
    "    if len(co2_scrubber_rating) > 1:\n",
    "        common_value = least_common_value(co2_scrubber_rating, i)\n",
    "        co2_scrubber_rating = list(filter(lambda x: x[i] == common_value, co2_scrubber_rating))\n",
    "\n"
   ]
  },
  {
   "cell_type": "code",
   "execution_count": 95,
   "id": "47652a48",
   "metadata": {},
   "outputs": [
    {
     "data": {
      "text/plain": [
       "2397"
      ]
     },
     "execution_count": 95,
     "metadata": {},
     "output_type": "execute_result"
    }
   ],
   "source": [
    "int(''.join([str(c) for c in oxygen_generator_rating[0]]),2)"
   ]
  },
  {
   "cell_type": "code",
   "execution_count": 96,
   "id": "aa7aead0",
   "metadata": {},
   "outputs": [
    {
     "data": {
      "text/plain": [
       "673"
      ]
     },
     "execution_count": 96,
     "metadata": {},
     "output_type": "execute_result"
    }
   ],
   "source": [
    "int(''.join([str(c) for c in co2_scrubber_rating[0]]),2)"
   ]
  },
  {
   "cell_type": "code",
   "execution_count": 97,
   "id": "425d890d",
   "metadata": {},
   "outputs": [
    {
     "data": {
      "text/plain": [
       "1613181"
      ]
     },
     "execution_count": 97,
     "metadata": {},
     "output_type": "execute_result"
    }
   ],
   "source": [
    "2397 * 673"
   ]
  },
  {
   "cell_type": "code",
   "execution_count": null,
   "id": "bc05baa9",
   "metadata": {},
   "outputs": [],
   "source": []
  }
 ],
 "metadata": {
  "kernelspec": {
   "display_name": "Python 3 (ipykernel)",
   "language": "python",
   "name": "python3"
  },
  "language_info": {
   "codemirror_mode": {
    "name": "ipython",
    "version": 3
   },
   "file_extension": ".py",
   "mimetype": "text/x-python",
   "name": "python",
   "nbconvert_exporter": "python",
   "pygments_lexer": "ipython3",
   "version": "3.8.1"
  }
 },
 "nbformat": 4,
 "nbformat_minor": 5
}
