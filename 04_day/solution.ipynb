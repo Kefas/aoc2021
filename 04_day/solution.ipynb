{
 "cells": [
  {
   "cell_type": "code",
   "execution_count": 192,
   "id": "8ff02874",
   "metadata": {},
   "outputs": [],
   "source": [
    "with open('input.txt', 'r') as f:\n",
    "    numbers = f.readline()\n",
    "    _ = f.readline()\n",
    "    boards_input = f.read()"
   ]
  },
  {
   "cell_type": "code",
   "execution_count": 193,
   "id": "c38f82ad",
   "metadata": {},
   "outputs": [],
   "source": [
    "boards = []\n",
    "masks = []\n",
    "for board_input in boards_input.split('\\n\\n'):\n",
    "    board = []\n",
    "    mask = []\n",
    "    for row_str in board_input.split('\\n'):\n",
    "        row = [int(num) for num in row_str.split(' ') if num]\n",
    "        mask_row = [False for num in row_str.split(' ') if num]\n",
    "        if row:\n",
    "            board.append(row)\n",
    "            mask.append(mask_row)\n",
    "    boards.append(board)\n",
    "    masks.append(mask)"
   ]
  },
  {
   "cell_type": "code",
   "execution_count": 194,
   "id": "4f6738f2",
   "metadata": {},
   "outputs": [],
   "source": [
    "def mark_number(number, board, mask):\n",
    "    for i in range(len(board)):\n",
    "        for j in range(len(board[i])):\n",
    "            if board[i][j] == number:\n",
    "                mask[i][j] = True\n",
    "\n",
    "def column(mask, i):\n",
    "    return [row[i] for row in mask]\n",
    "    \n",
    "def check_win(mask):\n",
    "    for row in mask:\n",
    "        if sum(row) == len(row):\n",
    "            return True\n",
    "    for i in range(len(mask[0])):\n",
    "        if sum(column(mask, i)) == len(mask):\n",
    "            return True\n",
    "    return False\n",
    "\n",
    "def calculate_score(last_number, board, mask):\n",
    "    result = 0\n",
    "    for i, row in enumerate(board):\n",
    "        for j, number in enumerate(row):\n",
    "            if not mask[i][j]:\n",
    "                result += number\n",
    "    return result * last_number\n",
    "        "
   ]
  },
  {
   "cell_type": "markdown",
   "id": "4de0158f",
   "metadata": {},
   "source": [
    "Part1"
   ]
  },
  {
   "cell_type": "code",
   "execution_count": 152,
   "id": "cde3da3c",
   "metadata": {},
   "outputs": [
    {
     "name": "stdout",
     "output_type": "stream",
     "text": [
      "WON 44088\n"
     ]
    }
   ],
   "source": [
    "won = False\n",
    "for number in numbers.split(','):\n",
    "    if won:\n",
    "        continue\n",
    "    for board, mask in zip(boards, masks):\n",
    "        mark_number(int(number), board, mask)\n",
    "        if check_win(mask):\n",
    "            print(f'WON {calculate_score(int(number), board, mask)}')\n",
    "            won = True"
   ]
  },
  {
   "cell_type": "markdown",
   "id": "0372cebc",
   "metadata": {},
   "source": [
    "Part 2"
   ]
  },
  {
   "cell_type": "code",
   "execution_count": 195,
   "id": "c3637322",
   "metadata": {},
   "outputs": [],
   "source": [
    "won = []\n",
    "last_numbers = []\n",
    "for number in numbers.split(','):\n",
    "    for i, (board, mask) in enumerate(zip(boards, masks)):\n",
    "        if i not in won:\n",
    "            mark_number(int(number), board, mask)\n",
    "            if check_win(mask):\n",
    "                won.append(i)\n",
    "                last_numbers.append(number)"
   ]
  },
  {
   "cell_type": "code",
   "execution_count": 198,
   "id": "46909d84",
   "metadata": {},
   "outputs": [
    {
     "data": {
      "text/plain": [
       "23670"
      ]
     },
     "execution_count": 198,
     "metadata": {},
     "output_type": "execute_result"
    }
   ],
   "source": [
    "calculate_score(int(last_numbers[-1]), boards[won[-1]], masks[won[-1]])"
   ]
  },
  {
   "cell_type": "code",
   "execution_count": 173,
   "id": "7742d18c",
   "metadata": {},
   "outputs": [
    {
     "data": {
      "text/plain": [
       "86"
      ]
     },
     "execution_count": 173,
     "metadata": {},
     "output_type": "execute_result"
    }
   ],
   "source": []
  },
  {
   "cell_type": "code",
   "execution_count": null,
   "id": "cfa4f35a",
   "metadata": {},
   "outputs": [],
   "source": []
  }
 ],
 "metadata": {
  "kernelspec": {
   "display_name": "Python 3 (ipykernel)",
   "language": "python",
   "name": "python3"
  },
  "language_info": {
   "codemirror_mode": {
    "name": "ipython",
    "version": 3
   },
   "file_extension": ".py",
   "mimetype": "text/x-python",
   "name": "python",
   "nbconvert_exporter": "python",
   "pygments_lexer": "ipython3",
   "version": "3.8.1"
  }
 },
 "nbformat": 4,
 "nbformat_minor": 5
}
