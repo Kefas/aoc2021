{
 "cells": [
  {
   "cell_type": "code",
   "execution_count": 1,
   "id": "c5bf727c",
   "metadata": {},
   "outputs": [],
   "source": [
    "with open('input.txt', 'r') as f:\n",
    "    lines = f.read().splitlines()\n",
    "split_lines = [line.split('|') for line in lines]"
   ]
  },
  {
   "cell_type": "markdown",
   "id": "222f27b8",
   "metadata": {},
   "source": [
    "part 1"
   ]
  },
  {
   "cell_type": "code",
   "execution_count": 6,
   "id": "d3fd5a1a",
   "metadata": {},
   "outputs": [
    {
     "name": "stdout",
     "output_type": "stream",
     "text": [
      "532\n"
     ]
    }
   ],
   "source": [
    "acc = 0\n",
    "for signal, output in split_lines:\n",
    "    numbers = output.split(' ')\n",
    "    for number in numbers:\n",
    "        if len(number) in [2, 3, 4, 7]:\n",
    "            acc += 1\n",
    "        \n",
    "print(acc)"
   ]
  },
  {
   "cell_type": "markdown",
   "id": "2db1b3a8",
   "metadata": {},
   "source": [
    "part 2"
   ]
  },
  {
   "cell_type": "code",
   "execution_count": 75,
   "id": "291d29c8",
   "metadata": {},
   "outputs": [
    {
     "name": "stdout",
     "output_type": "stream",
     "text": [
      "1011284\n"
     ]
    }
   ],
   "source": [
    "result = 0\n",
    "\n",
    "for signal, output in split_lines:\n",
    "    numbers_dict = {}\n",
    "    numbers_count = {}\n",
    "    numbers = signal.split(' ') + output.split(' ')\n",
    "    \n",
    "    for number in numbers:\n",
    "        if number:\n",
    "            length = len(number)\n",
    "            if not numbers_count.get(length):\n",
    "                numbers_count[length] = []\n",
    "            if set(number) not in numbers_count[length]:\n",
    "                numbers_count[length].append(set(number))\n",
    "        \n",
    "   \n",
    "    numbers_dict[1] = numbers_count[2][0]\n",
    "    numbers_dict[4] = numbers_count[4][0]\n",
    "    numbers_dict[7] = numbers_count[3][0]\n",
    "    numbers_dict[8] = numbers_count[7][0]\n",
    "    \n",
    "    for number_6 in numbers_count[6]:\n",
    "        intersection = numbers_dict[1] & number_6\n",
    "        if len(intersection) == 1:\n",
    "            numbers_dict[6] = number_6\n",
    "        \n",
    "    for number_6 in numbers_count[6]:\n",
    "        if not number_6 == numbers_dict[6]:\n",
    "            diff = numbers_dict[4] - number_6\n",
    "            if len(diff) == 0:\n",
    "                numbers_dict[9] = number_6\n",
    "            else:\n",
    "                numbers_dict[0] = number_6\n",
    "    \n",
    "    for number_5 in numbers_count[5]:\n",
    "        diff = (numbers_dict[8] - numbers_dict[6]) & number_5\n",
    "        if len(diff) == 0:\n",
    "            numbers_dict[5] = number_5\n",
    "            \n",
    "    for number_5 in numbers_count[5]:    \n",
    "        if not number_5 == numbers_dict[5]:\n",
    "            intersection = numbers_dict[1] & number_5\n",
    "            if len(intersection) == 1:\n",
    "                numbers_dict[2] = number_5\n",
    "            else:\n",
    "                numbers_dict[3] = number_5\n",
    "\n",
    "    acc = ''\n",
    "    for out_num in output.split(' '):\n",
    "        if out_num:\n",
    "            for key, value in numbers_dict.items():\n",
    "                if value == set(out_num):\n",
    "                    acc += f'{key}'\n",
    "    \n",
    "    result += int(acc)\n",
    "\n",
    "print(result)\n"
   ]
  },
  {
   "cell_type": "code",
   "execution_count": null,
   "id": "172154c7",
   "metadata": {},
   "outputs": [],
   "source": []
  }
 ],
 "metadata": {
  "kernelspec": {
   "display_name": "Python 3 (ipykernel)",
   "language": "python",
   "name": "python3"
  },
  "language_info": {
   "codemirror_mode": {
    "name": "ipython",
    "version": 3
   },
   "file_extension": ".py",
   "mimetype": "text/x-python",
   "name": "python",
   "nbconvert_exporter": "python",
   "pygments_lexer": "ipython3",
   "version": "3.8.1"
  }
 },
 "nbformat": 4,
 "nbformat_minor": 5
}
