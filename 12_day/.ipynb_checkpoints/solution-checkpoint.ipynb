{
 "cells": [
  {
   "cell_type": "code",
   "execution_count": 66,
   "id": "6c3c6cff",
   "metadata": {},
   "outputs": [],
   "source": [
    "with open('input.txt', 'r') as f:\n",
    "    lines = f.read().splitlines()"
   ]
  },
  {
   "cell_type": "code",
   "execution_count": 67,
   "id": "d3910025",
   "metadata": {},
   "outputs": [],
   "source": [
    "graph = {}\n",
    "for line in lines:\n",
    "    a, b = line.split('-')\n",
    "    \n",
    "    if b != 'start' and a != 'end':\n",
    "        if a in graph.keys():\n",
    "            graph[a].append(b)\n",
    "        else:\n",
    "            graph[a] = [b]\n",
    "    \n",
    "    if a != 'start' and b != 'end':\n",
    "        if b in graph.keys():\n",
    "            graph[b].append(a)\n",
    "        else:\n",
    "            graph[b] = [a]"
   ]
  },
  {
   "cell_type": "code",
   "execution_count": 68,
   "id": "39c4f2e7",
   "metadata": {},
   "outputs": [],
   "source": [
    "def find_path(graph, current, acc):\n",
    "    if current == 'end':\n",
    "        return 1\n",
    "    \n",
    "    paths = 0\n",
    "    \n",
    "    filtered = list(filter(lambda x: x.islower(), acc + [current]))\n",
    "    if len(filtered) != len(set(filtered)):\n",
    "        return paths\n",
    "    else:\n",
    "        for cave in graph[current]:\n",
    "            paths += find_path(graph, cave, acc + [current])\n",
    "    \n",
    "    return paths\n"
   ]
  },
  {
   "cell_type": "code",
   "execution_count": 69,
   "id": "a8114ef3",
   "metadata": {},
   "outputs": [
    {
     "data": {
      "text/plain": [
       "4754"
      ]
     },
     "execution_count": 69,
     "metadata": {},
     "output_type": "execute_result"
    }
   ],
   "source": [
    "find_path(graph, 'start', [])"
   ]
  },
  {
   "cell_type": "code",
   "execution_count": 84,
   "id": "6f416df2",
   "metadata": {},
   "outputs": [],
   "source": [
    "def find_path_2(graph, current, acc):\n",
    "    if current == 'end':\n",
    "        return 1\n",
    "    \n",
    "    paths = 0\n",
    "    \n",
    "    filtered = list(filter(lambda x: x.islower(), acc + [current]))\n",
    "    if abs(len(filtered) - len(set(filtered))) < 2:\n",
    "        for cave in graph[current]:\n",
    "            paths += find_path_2(graph, cave, acc + [current])\n",
    "    else:\n",
    "        return paths\n",
    "\n",
    "    return paths"
   ]
  },
  {
   "cell_type": "code",
   "execution_count": 85,
   "id": "e027fcf3",
   "metadata": {},
   "outputs": [
    {
     "data": {
      "text/plain": [
       "143562"
      ]
     },
     "execution_count": 85,
     "metadata": {},
     "output_type": "execute_result"
    }
   ],
   "source": [
    "find_path_2(graph, 'start', [])"
   ]
  },
  {
   "cell_type": "code",
   "execution_count": null,
   "id": "db67245d",
   "metadata": {},
   "outputs": [],
   "source": []
  }
 ],
 "metadata": {
  "kernelspec": {
   "display_name": "Python 3 (ipykernel)",
   "language": "python",
   "name": "python3"
  },
  "language_info": {
   "codemirror_mode": {
    "name": "ipython",
    "version": 3
   },
   "file_extension": ".py",
   "mimetype": "text/x-python",
   "name": "python",
   "nbconvert_exporter": "python",
   "pygments_lexer": "ipython3",
   "version": "3.8.1"
  }
 },
 "nbformat": 4,
 "nbformat_minor": 5
}
